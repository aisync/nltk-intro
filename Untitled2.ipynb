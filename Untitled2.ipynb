{
 "cells": [
  {
   "cell_type": "markdown",
   "id": "interim-thanksgiving",
   "metadata": {},
   "source": [
    "# What is Tf-idf?\n",
    "__Term frequency-inverse document frequency__ is a numerical statistic used to indicate how important a word is to each document in a collection of documents, or a corpus.\n",
    "\n",
    "When applying tf-idf to a corpus, each word is given a tf-idf score for each document, representing the relevance of that word to the particular document. A higher tf-idf score indicates a term is more important to the corresponding document.\n",
    "\n",
    "Tf-idf has many similarities with the bag-of-words language model, which if you recall is concerned with word count — how many times each word appears in a document.\n",
    "\n",
    "While tf-idf can be used in any situation bag-of-words can be used, there is a key difference in how it is calculated.\n",
    "\n",
    "Tf-idf relies on two different metrics in order to come up with an overall score:\n",
    "\n",
    "- _term frequency_, or how often a word appears in a document. This is the same as bag-of-words’ word count.\n",
    "- _inverse document frequency_, which is a measure of how often a word appears in the overall corpus. By penalizing the score of words that appear throughout a corpus, tf-idf can give better insight into how important a word is to a particular document of a corpus."
   ]
  },
  {
   "cell_type": "code",
   "execution_count": null,
   "id": "thrown-messenger",
   "metadata": {},
   "outputs": [],
   "source": []
  }
 ],
 "metadata": {
  "kernelspec": {
   "display_name": "Python 3",
   "language": "python",
   "name": "python3"
  },
  "language_info": {
   "codemirror_mode": {
    "name": "ipython",
    "version": 3
   },
   "file_extension": ".py",
   "mimetype": "text/x-python",
   "name": "python",
   "nbconvert_exporter": "python",
   "pygments_lexer": "ipython3",
   "version": "3.8.2"
  }
 },
 "nbformat": 4,
 "nbformat_minor": 5
}
