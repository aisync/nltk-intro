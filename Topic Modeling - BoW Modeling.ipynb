{
 "cells": [
  {
   "cell_type": "markdown",
   "metadata": {},
   "source": [
    "## BoW Dictionaries\n",
    "One of the most common ways to implement the BoW model in Python is as a **dictionary with each key set to a word and each value set to the number of times that word appears.**\n",
    "\n",
    "The words from the sentence go into the bag-of-words and come out as a dictionary of words with their corresponding counts. For statistical models, we call the text that we use to build the model our training data. Usually, we need to prepare our text data by breaking it up into documents (shorter strings of text, generally sentences).\n",
    "\n",
    "**Let’s build a function that converts a given training text into a bag-of-words!**\n",
    "```python\n",
    "from preprocessing import preprocess_text\n",
    "# Define text_to_bow() below:\n",
    "def text_to_bow(some_text):\n",
    "  bow_dictionary = {}\n",
    "  tokens = preprocess_text(some_text)\n",
    "  for token in tokens:\n",
    "    if token in bow_dictionary:\n",
    "      bow_dictionary[token] += 1\n",
    "    else:\n",
    "      bow_dictionary[token] = 1\n",
    "\n",
    "  return bow_dictionary\n",
    "\n",
    "print(text_to_bow(\"I love fantastic flying fish. These flying fish are just ok, so maybe I will find another few fantastic fish...\"))\n",
    "```"
   ]
  },
  {
   "cell_type": "markdown",
   "metadata": {},
   "source": [
    "## Bow Vectors\n",
    "A feature vector is a numeric representation of an item’s important features. Each feature has its own column. If the feature exists for the item, you could represent that with a 1. If the feature does not exist for that item, you could represent that with a `0`. \n",
    "\n",
    "Turning text into a BoW vector is known as **feature extraction or vectorization.** When building BoW vectors, we generally create a **features dictionary** of all vocabulary in our training data (usually several documents) mapped to indices."
   ]
  },
  {
   "cell_type": "markdown",
   "metadata": {},
   "source": [
    "## Building a Features Dictionary\n",
    "```python\n",
    "from preprocessing import preprocess_text\n",
    "# Define create_features_dictionary() below:\n",
    "def create_features_dictionary(documents):\n",
    "  features_dictionary = {}\n",
    "  merged = \" \".join(documents)\n",
    "  tokens = preprocess_text(merged)\n",
    "  index = 0\n",
    "  for token in tokens:\n",
    "    if token not in features_dictionary:\n",
    "      features_dictionary[token] = index\n",
    "      index += 1\n",
    "\n",
    "  return features_dictionary, tokens\n",
    "\n",
    "training_documents = [\"Five fantastic fish flew off to find faraway functions.\", \"Maybe find another five fantastic fish?\", \"Find my fish with a function please!\"]\n",
    "\n",
    "print(create_features_dictionary(training_documents)[0])\n",
    "```"
   ]
  },
  {
   "cell_type": "markdown",
   "metadata": {},
   "source": [
    "## Building a BoW Vector\n",
    "Each index in the list will correspond to a word and be set to its count.  \n",
    "\n",
    "```python\n",
    "from preprocessing import preprocess_text\n",
    "# Define text_to_bow_vector() below:\n",
    "def text_to_bow_vector(some_text, features_dictionary):\n",
    "  bow_vector = [0] * len(features_dictionary) # list of 0's length of dict\n",
    "  tokens = preprocess_text(some_text)\n",
    "  for token in tokens:\n",
    "    feature_index = features_dictionary[token]\n",
    "    bow_vector[feature_index] += 1\n",
    "    \n",
    "  return bow_vector, tokens\n",
    "\n",
    "\n",
    "features_dictionary = {'function': 8, 'please': 14, 'find': 6, 'five': 0, 'with': 12, 'fantastic': 1, 'my': 11, 'another': 10, 'a': 13, 'maybe': 9, 'to': 5, 'off': 4, 'faraway': 7, 'fish': 2, 'fly': 3}\n",
    "\n",
    "text = \"Another five fish find another faraway fish.\"\n",
    "print(text_to_bow_vector(text, features_dictionary)[0])\n",
    "```"
   ]
  },
  {
   "cell_type": "markdown",
   "metadata": {},
   "source": [
    "As with most tasks in Python, there's already a library that can do all of the above work for you.  \n",
    "\n",
    "For `text_to_bow()`, you can approximate the functionality with the collections module’s `Counter()` function:\n",
    "```python\n",
    "from collections import Counter\n",
    " \n",
    "tokens = ['another', 'five', 'fish', 'find', 'another', 'faraway', 'fish']\n",
    "print(Counter(tokens))\n",
    " \n",
    "# Counter({'fish': 2, 'another': 2, 'find': 1, 'five': 1, 'faraway': 1})\n",
    "```\n",
    "\n",
    "For vectorization, you can use `CountVectorizer` from the machine learning library `scikit-learn`. You can use `fit()` to train the features dictionary and then `transform()` to transform text into a vector:\n",
    "```python\n",
    "from sklearn.feature_extraction.text import CountVectorizer\n",
    " \n",
    "training_documents = [\"Five fantastic fish flew off to find faraway functions.\", \"Maybe find another five fantastic fish?\", \"Find my fish with a function please!\"]\n",
    "test_text = [\"Another five fish find another faraway fish.\"]\n",
    "bow_vectorizer = CountVectorizer()\n",
    "bow_vectorizer.fit(training_documents)\n",
    "bow_vector = bow_vectorizer.transform(test_text)\n",
    "print(bow_vector.toarray())\n",
    "# [[2 0 1 1 2 1 0 0 0 0 0 0 0 0 0]]\n",
    "```\n"
   ]
  },
  {
   "cell_type": "code",
   "execution_count": 5,
   "metadata": {},
   "outputs": [
    {
     "name": "stdout",
     "output_type": "stream",
     "text": [
      "Counter({'another': 2, 'fish': 2, 'five': 1, 'find': 1, 'faraway': 1})\n"
     ]
    }
   ],
   "source": [
    "from collections import Counter\n",
    "\n",
    "tokens = ['another', 'five', 'fish', 'find', 'another', 'faraway', 'fish']\n",
    "print(Counter(tokens))\n",
    "\n",
    "# Counter({'fish': 2, 'another': 2, 'find': 1, 'five': 1, 'faraway': 1})"
   ]
  }
 ],
 "metadata": {
  "kernelspec": {
   "display_name": "Python 3",
   "language": "python",
   "name": "python3"
  },
  "language_info": {
   "codemirror_mode": {
    "name": "ipython",
    "version": 3
   },
   "file_extension": ".py",
   "mimetype": "text/x-python",
   "name": "python",
   "nbconvert_exporter": "python",
   "pygments_lexer": "ipython3",
   "version": "3.7.9"
  }
 },
 "nbformat": 4,
 "nbformat_minor": 4
}
