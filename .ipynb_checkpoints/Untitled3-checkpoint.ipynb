{
 "cells": [
  {
   "cell_type": "markdown",
   "id": "bound-contract",
   "metadata": {},
   "source": [
    "# Part I: Term Frequency\n",
    "Term frequency calculated in Python using scikit-learn `CountVectorizer`:\n",
    "\n",
    "```python\n",
    "vectorizer = CountVectorizer()\n",
    "\n",
    "term_frequencies = vectorizer.fit_transform([stanza])\n",
    "```\n",
    "- A `CountVectorizer` object is initialized\n",
    "- The `CountVectorizer` object is fit (trained) and transformed (applied) on the corpus of data, returning the term frequencies for each term-document pair"
   ]
  },
  {
   "cell_type": "code",
   "execution_count": null,
   "id": "hybrid-motivation",
   "metadata": {},
   "outputs": [],
   "source": []
  }
 ],
 "metadata": {
  "kernelspec": {
   "display_name": "Python 3",
   "language": "python",
   "name": "python3"
  },
  "language_info": {
   "codemirror_mode": {
    "name": "ipython",
    "version": 3
   },
   "file_extension": ".py",
   "mimetype": "text/x-python",
   "name": "python",
   "nbconvert_exporter": "python",
   "pygments_lexer": "ipython3",
   "version": "3.8.2"
  }
 },
 "nbformat": 4,
 "nbformat_minor": 5
}
