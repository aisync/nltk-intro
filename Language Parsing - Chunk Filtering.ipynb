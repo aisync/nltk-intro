{
 "cells": [
  {
   "cell_type": "markdown",
   "metadata": {},
   "source": [
    "# Chunk Filtering\n",
    "Another option you have to find chunks in your text is chunk filtering. Chunk filtering lets you define what parts of speech you do not want in a chunk and remove them.\n",
    "\n",
    "A popular method for performing chunk filtering is to chunk an entire sentence together and then indicate which parts of speech are to be filtered out. If the filtered parts of speech are in the middle of a chunk, it will split the chunk into two separate chunks! The chunk grammar you can use to perform chunk filtering is given below:"
   ]
  },
  {
   "cell_type": "code",
   "execution_count": 1,
   "metadata": {},
   "outputs": [],
   "source": [
    "chunk_grammar = \"\"\"NP: {<.*>+}\n",
    "                       }<VB.?|IN>+{\"\"\""
   ]
  },
  {
   "cell_type": "markdown",
   "metadata": {},
   "source": [
    "- `NP` is the user-defined name of the chunk you are searching for. In this case `NP` stands for noun phrase\n",
    "- The brackets `{}` indicate what parts of speech you are chunking. `<.*>+` matches every part of speech in the sentence\n",
    "- The inverted brackets `}{` indicate which parts of speech you want to filter from the chunk. `<VB.?|IN>+` will filter out any verbs or prepositions"
   ]
  },
  {
   "cell_type": "markdown",
   "metadata": {},
   "source": [
    "```python\n",
    "from nltk import RegexpParser, Tree\n",
    "from pos_tagged_oz import pos_tagged_oz\n",
    "\n",
    "# define chunk grammar to chunk an entire sentence together\n",
    "grammar = \"Chunk: {<.*>+}\"\n",
    "\n",
    "# create RegexpParser object\n",
    "parser = RegexpParser(grammar)\n",
    "\n",
    "# chunk the pos-tagged sentence at index 230 in pos_tagged_oz\n",
    "chunked_dancers = parser.parse(pos_tagged_oz[230])\n",
    "print(chunked_dancers)\n",
    "\n",
    "# define noun phrase chunk grammar using chunk filtering here\n",
    "chunk_grammar = \"\"\"NP: {<.*>+}\n",
    "                       }<VB.?|IN>+{\"\"\"\n",
    "\n",
    "\n",
    "# create RegexpParser object here\n",
    "chunk_parser = RegexpParser(chunk_grammar)\n",
    "\n",
    "# chunk and filter the pos-tagged sentence at index 230 in pos_tagged_oz here\n",
    "filtered_dancers = chunk_parser.parse(pos_tagged_oz[230])\n",
    "\n",
    "\n",
    "# pretty_print the chunked and filtered sentence here\n",
    "Tree.fromstring(str(filtered_dancers)).pretty_print()\n",
    "```"
   ]
  }
 ],
 "metadata": {
  "kernelspec": {
   "display_name": "Python 3",
   "language": "python",
   "name": "python3"
  },
  "language_info": {
   "codemirror_mode": {
    "name": "ipython",
    "version": 3
   },
   "file_extension": ".py",
   "mimetype": "text/x-python",
   "name": "python",
   "nbconvert_exporter": "python",
   "pygments_lexer": "ipython3",
   "version": "3.8.6"
  }
 },
 "nbformat": 4,
 "nbformat_minor": 4
}
