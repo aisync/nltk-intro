{
 "cells": [
  {
   "cell_type": "markdown",
   "metadata": {},
   "source": [
    "# Part-of-Speech Tagging\n",
    "\n",
    "`Wow! Ramona and her class are happily studying the new textbook she has on NLP.`\n",
    "\n",
    "- **Noun**: the name of a person (`Ramona`,`class`), place, thing (`textbook`), or idea (`NLP`)\n",
    "- **Pronoun**: a word used in place of a noun (`her`,`she`)\n",
    "- **Determiner**: a word that introduces, or “determines”, a noun (`the`)\n",
    "- **Verb**: expresses action (`studying`) or being (`are`,`has`)\n",
    "- **Adjective**: modifies or describes a noun or pronoun (`new`)\n",
    "- **Adverb**: modifies or describes a verb, an adjective, or another adverb (`happily`)\n",
    "- **Preposition**: a word placed before a noun or pronoun to form a phrase modifying another word in the sentence (`on`)\n",
    "- **Conjunction**: a word that joins words, phrases, or clauses (`and`)\n",
    "- **Interjection**: a word used to express emotion (`Wow`)\n",
    "\n",
    "You can automate the part-of-speech tagging process with `nltk`‘s `pos_tag()` function! The function takes one argument, a list of words in the order they appear in a sentence, and returns a list of tuples, where the first entry in the tuple is a word and the second is the part-of-speech tag.\n",
    "\n",
    "Given the sentence split into a list of words below:\n",
    "```python\n",
    "word_sentence = ['do', 'you', 'suppose', 'oz', 'could', 'give', 'me', 'a', 'heart', '?']\n",
    "```\n",
    "you can tag the parts of speech as follows:\n",
    "```python\n",
    "part_of_speech_tagged_sentence = pos_tag(word_sentence)\n",
    "```\n",
    "The call to `pos_tag()` will return the following:\n",
    "```python\n",
    "[('do', 'VB'), ('you', 'PRP'), ('suppose', 'VB'), ('oz', 'NNS'), ('could', 'MD'), ('give', 'VB'), ('me', 'PRP'), ('a', 'DT'), ('heart', 'NN'), ('?', '.')]\n",
    "```\n",
    "Abbreviations are given instead of the full part of speech name. Some common abbreviations include: `NN` for nouns, `VB` for verbs, `RB` for adverbs, `JJ` for adjectives, and `DT` for determiners. A [complete list of part-of-speech tags and their abbreviations can be found here.](https://www.ling.upenn.edu/courses/Fall_2003/ling001/penn_treebank_pos.html)"
   ]
  },
  {
   "cell_type": "markdown",
   "metadata": {},
   "source": [
    "```python\n",
    "import nltk\n",
    "from nltk import pos_tag\n",
    "from word_tokenized_oz import word_tokenized_oz\n",
    "\n",
    "# save and print the sentence stored at index 100 in word_tokenized_oz here\n",
    "witches_fate = word_tokenized_oz[100]\n",
    "print(witches_fate)\n",
    "\n",
    "\n",
    "# create a list to hold part-of-speech tagged sentences here\n",
    "pos_tagged_oz = []\n",
    "\n",
    "# create a for loop through each word tokenized sentence in word_tokenized_oz here\n",
    "for token in word_tokenized_oz:\n",
    "  pos_tagged_oz.append(pos_tag(token))\n",
    "  # part-of-speech tag each sentence and append to pos_tagged_oz here\n",
    "witches_fate_pos = pos_tagged_oz[100]  \n",
    "\n",
    "# store and print the 101st part-of-speech tagged sentence here\n",
    "print(witches_fate_pos)\n",
    "```"
   ]
  }
 ],
 "metadata": {
  "kernelspec": {
   "display_name": "Python 3",
   "language": "python",
   "name": "python3"
  },
  "language_info": {
   "codemirror_mode": {
    "name": "ipython",
    "version": 3
   },
   "file_extension": ".py",
   "mimetype": "text/x-python",
   "name": "python",
   "nbconvert_exporter": "python",
   "pygments_lexer": "ipython3",
   "version": "3.8.6"
  }
 },
 "nbformat": 4,
 "nbformat_minor": 4
}
