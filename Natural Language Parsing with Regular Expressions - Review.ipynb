{
 "cells": [
  {
   "cell_type": "markdown",
   "metadata": {},
   "source": [
    "# Review\n",
    "\n",
    "- The `re` module’s `.compile()` and `.match()` methods allow you to enter any regex pattern and look for a single match at the beginning of a piece of text\n",
    "- The `re` module’s `.search()` method lets you find a single match to a regex pattern anywhere in a string, while the `.findall()` method finds all the matches of a regex pattern in a string\n",
    "- Part-of-speech tagging identifies and labels the part of speech of words in a sentence, and can be performed in `nltk` using the `pos_tag()` function\n",
    "- Chunking groups together patterns of words by their part-of-speech tag. Chunking can be performed in `nltk` by defining a piece of chunk grammar using regular expression syntax and calling a `RegexpParser`‘s `.parse()` method on a word tokenized sentence\n",
    "- NP-chunking chunks together an optional determiner `DT`, any number of adjectives `JJ`, and a noun `NN` to form a noun phrase. The frequency of different NP-chunks can identify important topics in a text or demonstrate how an author describes different subjects\n",
    "- VP-chunking chunks together a verb `VB`, a noun phrase, and an optional adverb `RB` to form a verb phrase. The frequency of different VP-chunks can give insight into what kind of action different subjects take or how the actions that different subjects take are described by an author, potentially indicating bias\n",
    "- Chunk filtering provides an alternative means of chunking by specifying what parts of speech you do not want in a chunk and removing them"
   ]
  },
  {
   "cell_type": "markdown",
   "metadata": {},
   "source": [
    "```python\n",
    "from nltk import RegexpParser\n",
    "from pos_tagged_oz import pos_tagged_oz\n",
    "from chunk_counter import chunk_counter\n",
    "\n",
    "# define your own chunk grammar here\n",
    "chunk_grammar = '''Chunk: {<.*>+}\n",
    "                       }<VB.?|IN>+{'''\n",
    "\n",
    "# create RegexpParser object\n",
    "chunk_parser = RegexpParser(chunk_grammar)\n",
    "\n",
    "# create a list to hold chunked sentences\n",
    "chunked_oz = list()\n",
    "\n",
    "# create a for loop through each pos-tagged sentence in pos_tagged_oz\n",
    "for pos_tagged_sentence in pos_tagged_oz:\n",
    "  # chunk each sentence and append to chunked_oz\n",
    "  chunked_oz.append(chunk_parser.parse(pos_tagged_sentence))\n",
    "\n",
    "# store and print the most common chunks\n",
    "most_common_chunks = chunk_counter(chunked_oz)\n",
    "print(most_common_chunks)\n",
    "```"
   ]
  }
 ],
 "metadata": {
  "kernelspec": {
   "display_name": "Python 3",
   "language": "python",
   "name": "python3"
  },
  "language_info": {
   "codemirror_mode": {
    "name": "ipython",
    "version": 3
   },
   "file_extension": ".py",
   "mimetype": "text/x-python",
   "name": "python",
   "nbconvert_exporter": "python",
   "pygments_lexer": "ipython3",
   "version": "3.8.6"
  }
 },
 "nbformat": 4,
 "nbformat_minor": 4
}
