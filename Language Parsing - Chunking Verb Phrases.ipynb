{
 "cells": [
  {
   "cell_type": "markdown",
   "metadata": {},
   "source": [
    "# Chunking Verb Phrases"
   ]
  },
  {
   "cell_type": "markdown",
   "metadata": {},
   "source": [
    "Verb phrases can take a variety of structures, and here you will consider two. The first structure begins with a verb `VB` of any tense, followed by a noun phrase, and ends with an optional adverb `RB` of any form. The second structure switches the order of the verb and the noun phrase, but also ends with an optional adverb."
   ]
  },
  {
   "cell_type": "markdown",
   "metadata": {},
   "source": [
    "- `(('said', 'VBD'), ('the', 'DT'), ('cowardly', 'JJ'), ('lion', 'NN'))`\n",
    "- `('the', 'DT'), ('cowardly', 'JJ'), ('lion', 'NN')), (('said', 'VBD'),`\n",
    "\n",
    "The chunk grammar to find the first form of verb phrase is given below:"
   ]
  },
  {
   "cell_type": "code",
   "execution_count": 5,
   "metadata": {},
   "outputs": [],
   "source": [
    "chunk_grammar = \"VP: {<VB.*><DT>?<JJ>*<NN><RB.?>?}\""
   ]
  },
  {
   "cell_type": "markdown",
   "metadata": {},
   "source": [
    "- `VP` is the user-defined name of the chunk you are searching for. In this case VP stands for verb phrase\n",
    "- `<VB.*>` matches any verb using the `.` as a wildcard and the `*` quantifier to match `0` or more occurrences of any character. This ensures matching verbs of any tense (ex. `VB` for present tense, `VBD` for past tense, or `VBN` for past participle)\n",
    "- `<DT>?<JJ>*<NN>` matches any noun phrase\n",
    "- `<RB.?>` matches any adverb using the `.` as a wildcard and the optional quantifier to match `0` or `1` occurrence of any character. This ensures matching any form of adverb (regular `RB`, comparative `RBR`, or superlative `RBS`)\n",
    "- `?` is an optional quantifier, matching either `0` or `1` adverbs\n",
    "\n",
    "**The chunk grammar for the second form of verb phrase is given below:**"
   ]
  },
  {
   "cell_type": "code",
   "execution_count": 6,
   "metadata": {},
   "outputs": [],
   "source": [
    "chunk_grammar = \"VP: {<DT>?<JJ>*<NN><VB.*><RB.?>?}\""
   ]
  },
  {
   "cell_type": "markdown",
   "metadata": {},
   "source": [
    "Just like with NP-chunks, you can find all the VP-chunks in a text and perform a frequency analysis to identify important, recurring verb phrases. These verb phrases can give insight into what kind of action different characters take or how the actions that characters take are described by the author."
   ]
  },
  {
   "cell_type": "markdown",
   "metadata": {},
   "source": [
    "```python\n",
    "from nltk import RegexpParser\n",
    "from pos_tagged_oz import pos_tagged_oz\n",
    "from vp_chunk_counter import vp_chunk_counter\n",
    "\n",
    "# define verb phrase chunk grammar here\n",
    "chunk_grammar = \"VP: {<VB.*><DT>?<JJ>*<NN><RB.?>?}\"\n",
    "\n",
    "# create RegexpParser object here\n",
    "chunk_parser = RegexpParser(chunk_grammar)\n",
    "\n",
    "# create a list to hold verb-phrase chunked sentences\n",
    "vp_chunked_oz = list()\n",
    "\n",
    "# create for loop through each pos-tagged sentence in pos_tagged_oz here\n",
    "for pos in pos_tagged_oz:\n",
    "  # chunk each sentence and append to vp_chunked_oz here\n",
    "  vp_chunked_oz.append(chunk_parser.parse(pos))\n",
    "  \n",
    "# store and print the most common vp-chunks here\n",
    "most_common_vp_chunks = vp_chunk_counter(vp_chunked_oz)\n",
    "\n",
    "print(most_common_vp_chunks)\n",
    "# Go back to the chunk grammar you defined earlier and update the grammar to find a verb phrase of the following form: noun phrase, followed by a verb VB, followed by an optional adverb RB. Rerun your code and look at the most common chunks. What do you find?\n",
    "```"
   ]
  }
 ],
 "metadata": {
  "kernelspec": {
   "display_name": "Python 3",
   "language": "python",
   "name": "python3"
  },
  "language_info": {
   "codemirror_mode": {
    "name": "ipython",
    "version": 3
   },
   "file_extension": ".py",
   "mimetype": "text/x-python",
   "name": "python",
   "nbconvert_exporter": "python",
   "pygments_lexer": "ipython3",
   "version": "3.7.8"
  }
 },
 "nbformat": 4,
 "nbformat_minor": 4
}
